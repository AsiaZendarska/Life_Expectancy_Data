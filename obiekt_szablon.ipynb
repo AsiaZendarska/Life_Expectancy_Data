{
 "cells": [
  {
   "cell_type": "code",
   "execution_count": null,
   "metadata": {},
   "outputs": [],
   "source": [
    "class Obiekt:\n",
    "    def __init__(self, wartosc):\n",
    "        self.wartosc = wartosc\n",
    "\n",
    "    def dodaj(self, liczba):\n",
    "        \"\"\"Dodaje podaną liczbę do wartości obiektu.\"\"\"\n",
    "        self.wartosc += liczba\n",
    "        return self.wartosc\n",
    "\n",
    "    def odejmij(self, liczba):\n",
    "        \"\"\"Odejmuje podaną liczbę od wartości obiektu.\"\"\"\n",
    "        self.wartosc -= liczba\n",
    "        return self.wartosc"
   ]
  },
  {
   "cell_type": "code",
   "execution_count": null,
   "metadata": {},
   "outputs": [],
   "source": [
    "obiekt = Obiekt(10)\n",
    "print(obiekt.dodaj(5))  \n",
    "print(obiekt.odejmij(3)) "
   ]
  }
 ],
 "metadata": {
  "language_info": {
   "name": "python"
  }
 },
 "nbformat": 4,
 "nbformat_minor": 2
}
