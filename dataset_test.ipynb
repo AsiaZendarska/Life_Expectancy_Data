{
 "cells": [
  {
   "cell_type": "code",
   "execution_count": 1,
   "metadata": {},
   "outputs": [],
   "source": [
    "import preprocessing"
   ]
  },
  {
   "cell_type": "code",
   "execution_count": 2,
   "metadata": {},
   "outputs": [],
   "source": [
    "from preprocessing import preprocessing_data"
   ]
  },
  {
   "cell_type": "code",
   "execution_count": 3,
   "metadata": {},
   "outputs": [],
   "source": [
    "from preprocessing import ModelRegLog"
   ]
  },
  {
   "cell_type": "code",
   "execution_count": 4,
   "metadata": {},
   "outputs": [],
   "source": [
    "model = ModelRegLog(file_path = \"C:\\\\Users\\\\joann\\\\Desktop\\\\Dajana_ds\\\\repozytoria\\\\Life_Expectancy_Data\\\\Life Expectancy Data.csv\")"
   ]
  },
  {
   "cell_type": "code",
   "execution_count": 5,
   "metadata": {},
   "outputs": [
    {
     "name": "stdout",
     "output_type": "stream",
     "text": [
      "Pierwsze kilka wierszy:\n",
      "       country  year      status  life_expectancy_  adult_mortality  \\\n",
      "0  Afghanistan  2015  Developing              65.0            263.0   \n",
      "1  Afghanistan  2014  Developing              59.9            271.0   \n",
      "2  Afghanistan  2013  Developing              59.9            268.0   \n",
      "3  Afghanistan  2012  Developing              59.5            272.0   \n",
      "4  Afghanistan  2011  Developing              59.2            275.0   \n",
      "\n",
      "   infant_deaths  alcohol  percentage_expenditure  hepatitis_b  measles_  ...  \\\n",
      "0             62     0.01               71.279624         65.0      1154  ...   \n",
      "1             64     0.01               73.523582         62.0       492  ...   \n",
      "2             66     0.01               73.219243         64.0       430  ...   \n",
      "3             69     0.01               78.184215         67.0      2787  ...   \n",
      "4             71     0.01                7.097109         68.0      3013  ...   \n",
      "\n",
      "   polio  total_expenditure  diphtheria_  _hiv/aids         gdp  population  \\\n",
      "0    6.0               8.16         65.0        0.1  584.259210  33736494.0   \n",
      "1   58.0               8.18         62.0        0.1  612.696514    327582.0   \n",
      "2   62.0               8.13         64.0        0.1  631.744976  31731688.0   \n",
      "3   67.0               8.52         67.0        0.1  669.959000   3696958.0   \n",
      "4   68.0               7.87         68.0        0.1   63.537231   2978599.0   \n",
      "\n",
      "   _thinness__1-19_years  _thinness_5-9_years  \\\n",
      "0                   17.2                 17.3   \n",
      "1                   17.5                 17.5   \n",
      "2                   17.7                 17.7   \n",
      "3                   17.9                 18.0   \n",
      "4                   18.2                 18.2   \n",
      "\n",
      "   income_composition_of_resources  schooling  \n",
      "0                            0.479       10.1  \n",
      "1                            0.476       10.0  \n",
      "2                            0.470        9.9  \n",
      "3                            0.463        9.8  \n",
      "4                            0.454        9.5  \n",
      "\n",
      "[5 rows x 22 columns]\n",
      "\n",
      "Informacje o DataFrame:\n",
      "<class 'pandas.core.frame.DataFrame'>\n",
      "RangeIndex: 2938 entries, 0 to 2937\n",
      "Data columns (total 22 columns):\n",
      " #   Column                           Non-Null Count  Dtype  \n",
      "---  ------                           --------------  -----  \n",
      " 0   country                          2938 non-null   object \n",
      " 1   year                             2938 non-null   int64  \n",
      " 2   status                           2938 non-null   object \n",
      " 3   life_expectancy_                 2928 non-null   float64\n",
      " 4   adult_mortality                  2928 non-null   float64\n",
      " 5   infant_deaths                    2938 non-null   int64  \n",
      " 6   alcohol                          2744 non-null   float64\n",
      " 7   percentage_expenditure           2938 non-null   float64\n",
      " 8   hepatitis_b                      2385 non-null   float64\n",
      " 9   measles_                         2938 non-null   int64  \n",
      " 10  _bmi_                            2904 non-null   float64\n",
      " 11  under-five_deaths_               2938 non-null   int64  \n",
      " 12  polio                            2919 non-null   float64\n",
      " 13  total_expenditure                2712 non-null   float64\n",
      " 14  diphtheria_                      2919 non-null   float64\n",
      " 15  _hiv/aids                        2938 non-null   float64\n",
      " 16  gdp                              2490 non-null   float64\n",
      " 17  population                       2286 non-null   float64\n",
      " 18  _thinness__1-19_years            2904 non-null   float64\n",
      " 19  _thinness_5-9_years              2904 non-null   float64\n",
      " 20  income_composition_of_resources  2771 non-null   float64\n",
      " 21  schooling                        2775 non-null   float64\n",
      "dtypes: float64(16), int64(4), object(2)\n",
      "memory usage: 505.1+ KB\n",
      "None\n",
      "\n",
      "Podstawowe statystyki:\n",
      "                                  count          mean           std  \\\n",
      "year                             2938.0  2.007519e+03  4.613841e+00   \n",
      "life_expectancy_                 2928.0  6.922493e+01  9.523867e+00   \n",
      "adult_mortality                  2928.0  1.647964e+02  1.242921e+02   \n",
      "infant_deaths                    2938.0  3.030395e+01  1.179265e+02   \n",
      "alcohol                          2744.0  4.602861e+00  4.052413e+00   \n",
      "percentage_expenditure           2938.0  7.382513e+02  1.987915e+03   \n",
      "hepatitis_b                      2385.0  8.094046e+01  2.507002e+01   \n",
      "measles_                         2938.0  2.419592e+03  1.146727e+04   \n",
      "_bmi_                            2904.0  3.832125e+01  2.004403e+01   \n",
      "under-five_deaths_               2938.0  4.203574e+01  1.604455e+02   \n",
      "polio                            2919.0  8.255019e+01  2.342805e+01   \n",
      "total_expenditure                2712.0  5.938190e+00  2.498320e+00   \n",
      "diphtheria_                      2919.0  8.232408e+01  2.371691e+01   \n",
      "_hiv/aids                        2938.0  1.742103e+00  5.077785e+00   \n",
      "gdp                              2490.0  7.483158e+03  1.427017e+04   \n",
      "population                       2286.0  1.275338e+07  6.101210e+07   \n",
      "_thinness__1-19_years            2904.0  4.839704e+00  4.420195e+00   \n",
      "_thinness_5-9_years              2904.0  4.870317e+00  4.508882e+00   \n",
      "income_composition_of_resources  2771.0  6.275511e-01  2.109036e-01   \n",
      "schooling                        2775.0  1.199279e+01  3.358920e+00   \n",
      "\n",
      "                                        min            25%           50%  \\\n",
      "year                             2000.00000    2004.000000  2.008000e+03   \n",
      "life_expectancy_                   36.30000      63.100000  7.210000e+01   \n",
      "adult_mortality                     1.00000      74.000000  1.440000e+02   \n",
      "infant_deaths                       0.00000       0.000000  3.000000e+00   \n",
      "alcohol                             0.01000       0.877500  3.755000e+00   \n",
      "percentage_expenditure              0.00000       4.685343  6.491291e+01   \n",
      "hepatitis_b                         1.00000      77.000000  9.200000e+01   \n",
      "measles_                            0.00000       0.000000  1.700000e+01   \n",
      "_bmi_                               1.00000      19.300000  4.350000e+01   \n",
      "under-five_deaths_                  0.00000       0.000000  4.000000e+00   \n",
      "polio                               3.00000      78.000000  9.300000e+01   \n",
      "total_expenditure                   0.37000       4.260000  5.755000e+00   \n",
      "diphtheria_                         2.00000      78.000000  9.300000e+01   \n",
      "_hiv/aids                           0.10000       0.100000  1.000000e-01   \n",
      "gdp                                 1.68135     463.935626  1.766948e+03   \n",
      "population                         34.00000  195793.250000  1.386542e+06   \n",
      "_thinness__1-19_years               0.10000       1.600000  3.300000e+00   \n",
      "_thinness_5-9_years                 0.10000       1.500000  3.300000e+00   \n",
      "income_composition_of_resources     0.00000       0.493000  6.770000e-01   \n",
      "schooling                           0.00000      10.100000  1.230000e+01   \n",
      "\n",
      "                                          75%           max  \n",
      "year                             2.012000e+03  2.015000e+03  \n",
      "life_expectancy_                 7.570000e+01  8.900000e+01  \n",
      "adult_mortality                  2.280000e+02  7.230000e+02  \n",
      "infant_deaths                    2.200000e+01  1.800000e+03  \n",
      "alcohol                          7.702500e+00  1.787000e+01  \n",
      "percentage_expenditure           4.415341e+02  1.947991e+04  \n",
      "hepatitis_b                      9.700000e+01  9.900000e+01  \n",
      "measles_                         3.602500e+02  2.121830e+05  \n",
      "_bmi_                            5.620000e+01  8.730000e+01  \n",
      "under-five_deaths_               2.800000e+01  2.500000e+03  \n",
      "polio                            9.700000e+01  9.900000e+01  \n",
      "total_expenditure                7.492500e+00  1.760000e+01  \n",
      "diphtheria_                      9.700000e+01  9.900000e+01  \n",
      "_hiv/aids                        8.000000e-01  5.060000e+01  \n",
      "gdp                              5.910806e+03  1.191727e+05  \n",
      "population                       7.420359e+06  1.293859e+09  \n",
      "_thinness__1-19_years            7.200000e+00  2.770000e+01  \n",
      "_thinness_5-9_years              7.200000e+00  2.860000e+01  \n",
      "income_composition_of_resources  7.790000e-01  9.480000e-01  \n",
      "schooling                        1.430000e+01  2.070000e+01  \n",
      "\n",
      "Liczba brakujących wartości w każdej kolumnie:\n",
      "country                              0\n",
      "year                                 0\n",
      "status                               0\n",
      "life_expectancy_                    10\n",
      "adult_mortality                     10\n",
      "infant_deaths                        0\n",
      "alcohol                            194\n",
      "percentage_expenditure               0\n",
      "hepatitis_b                        553\n",
      "measles_                             0\n",
      "_bmi_                               34\n",
      "under-five_deaths_                   0\n",
      "polio                               19\n",
      "total_expenditure                  226\n",
      "diphtheria_                         19\n",
      "_hiv/aids                            0\n",
      "gdp                                448\n",
      "population                         652\n",
      "_thinness__1-19_years               34\n",
      "_thinness_5-9_years                 34\n",
      "income_composition_of_resources    167\n",
      "schooling                          163\n",
      "dtype: int64\n",
      "Liczba wystąpień każdej unikalnej wartości w kolumnie 'Status':\n",
      "status\n",
      "Developing    2426\n",
      "Developed      512\n",
      "Name: count, dtype: int64\n"
     ]
    },
    {
     "data": {
      "image/png": "[encoded data removed]",
      "text/plain": [
       "<Figure size 640x480 with 1 Axes>"
      ]
     },
     "metadata": {},
     "output_type": "display_data"
    },
    {
     "name": "stdout",
     "output_type": "stream",
     "text": [
      "Accuracy: 0.8962585034013606\n",
      "Confusion Matrix:\n",
      "[[467  24]\n",
      " [ 37  60]]\n",
      "Classification Report:\n",
      "              precision    recall  f1-score   support\n",
      "\n",
      "           0       0.93      0.95      0.94       491\n",
      "           1       0.71      0.62      0.66        97\n",
      "\n",
      "    accuracy                           0.90       588\n",
      "   macro avg       0.82      0.78      0.80       588\n",
      "weighted avg       0.89      0.90      0.89       588\n",
      "\n"
     ]
    },
    {
     "name": "stderr",
     "output_type": "stream",
     "text": [
      "c:\\Users\\joann\\AppData\\Local\\Programs\\Python\\Python312\\Lib\\site-packages\\sklearn\\linear_model\\_logistic.py:469: ConvergenceWarning: lbfgs failed to converge (status=1):\n",
      "STOP: TOTAL NO. of ITERATIONS REACHED LIMIT.\n",
      "\n",
      "Increase the number of iterations (max_iter) or scale the data as shown in:\n",
      "    https://scikit-learn.org/stable/modules/preprocessing.html\n",
      "Please also refer to the documentation for alternative solver options:\n",
      "    https://scikit-learn.org/stable/modules/linear_model.html#logistic-regression\n",
      "  n_iter_i = _check_optimize_result(\n"
     ]
    }
   ],
   "source": [
    "model.preper_dataset()"
   ]
  },
  {
   "cell_type": "code",
   "execution_count": 10,
   "metadata": {},
   "outputs": [
    {
     "data": {
      "text/plain": [
       "2546    0\n",
       "650     1\n",
       "1740    0\n",
       "177     0\n",
       "1377    0\n",
       "       ..\n",
       "859     0\n",
       "1405    0\n",
       "962     0\n",
       "2658    0\n",
       "2272    0\n",
       "Name: status, Length: 588, dtype: int64"
      ]
     },
     "execution_count": 10,
     "metadata": {},
     "output_type": "execute_result"
    }
   ],
   "source": [
    "model.y_test"
   ]
  }
 ],
 "metadata": {
  "kernelspec": {
   "display_name": "Python 3",
   "language": "python",
   "name": "python3"
  },
  "language_info": {
   "codemirror_mode": {
    "name": "ipython",
    "version": 3
   },
   "file_extension": ".py",
   "mimetype": "text/x-python",
   "name": "python",
   "nbconvert_exporter": "python",
   "pygments_lexer": "ipython3",
   "version": "3.12.0"
  }
 },
 "nbformat": 4,
 "nbformat_minor": 2
}
